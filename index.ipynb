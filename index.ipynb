{
 "cells": [
  {
   "cell_type": "markdown",
   "metadata": {},
   "source": [
    "# Map, Filter and Lambda in Python Lab\n",
    "\n",
    "## Objectives\n",
    "* Apply and combine the skills covered for map and filter functions\n",
    "* Learn how to write and use lambda functions for transforming data\n",
    "* Modify given data using map and lambda functions as an alternative to writing for loops\n",
    "* Filter given data using filter function to only include the data that meets a given criteria"
   ]
  },
  {
   "cell_type": "markdown",
   "metadata": {},
   "source": [
    "### Introduction"
   ]
  },
  {
   "cell_type": "markdown",
   "metadata": {},
   "source": [
    "In this lab, we'll put our new knowledge about `map` and `filter` to the test. We'll also introduce `lambda` functions as a convenient tool for transforming data on the fly. As a test case, we'll be working with Yelp data again. Let's get started!\n",
    "\n",
    "### Lambda functions\n",
    "\n",
    "Recall that `map` applies a given function to every element of an iterable. Previously, you've seen `map` used with a variety of built-in Python functions. As you begin to work with more complicated data, you may need to use a custom function that performs a unique task for which there is no built-in Python function. This is exactly what `lambda` functions are used for. \n",
    "\n",
    "Say you wanted to add 5 to every element in the list of numbers shown below:"
   ]
  },
  {
   "cell_type": "code",
   "execution_count": 3,
   "metadata": {},
   "outputs": [
    {
     "data": {
      "text/plain": [
       "[1, 3, 8, 9, 11, 20]"
      ]
     },
     "execution_count": 3,
     "metadata": {},
     "output_type": "execute_result"
    }
   ],
   "source": [
    "# List of numbers\n",
    "numbers = [1, 3, 8, 9, 11, 20]\n",
    "numbers"
   ]
  },
  {
   "cell_type": "markdown",
   "metadata": {},
   "source": [
    "Unfortunately, you can't use the addition operator as this results in a `TypeError`:"
   ]
  },
  {
   "cell_type": "code",
   "execution_count": 4,
   "metadata": {},
   "outputs": [
    {
     "ename": "TypeError",
     "evalue": "can only concatenate list (not \"int\") to list",
     "output_type": "error",
     "traceback": [
      "\u001b[0;31m\u001b[0m",
      "\u001b[0;31mTypeError\u001b[0mTraceback (most recent call last)",
      "\u001b[0;32m<ipython-input-4-be56e3573393>\u001b[0m in \u001b[0;36m<module>\u001b[0;34m\u001b[0m\n\u001b[0;32m----> 1\u001b[0;31m \u001b[0mnumbers\u001b[0m \u001b[0;34m+\u001b[0m \u001b[0;36m5\u001b[0m\u001b[0;34m\u001b[0m\u001b[0;34m\u001b[0m\u001b[0m\n\u001b[0m",
      "\u001b[0;31mTypeError\u001b[0m: can only concatenate list (not \"int\") to list"
     ]
    }
   ],
   "source": [
    "numbers + 5"
   ]
  },
  {
   "cell_type": "markdown",
   "metadata": {},
   "source": [
    "If there were a built-in Python function to add 5, you might just use that function with `map` to apply it to all of the numbers in the list. But, sadly, no such function exists. The good news is that `lambda` can be used to define a custom function that adds 5! The syntax for defining a lambda function that adds 5 is shown below:\n",
    "\n",
    "```python\n",
    "lambda x: x + 5\n",
    "```"
   ]
  },
  {
   "cell_type": "markdown",
   "metadata": {},
   "source": [
    "As you might have guessed, `x` here is a variable and the `lambda` function simply adds 5 to it. Now that you understand how to write `lambda` functions, use `map` to apply the `lambda` function above to add 5 to every number in the `numbers` list."
   ]
  },
  {
   "cell_type": "code",
   "execution_count": 5,
   "metadata": {},
   "outputs": [
    {
     "data": {
      "text/plain": [
       "[6, 8, 13, 14, 16, 25]"
      ]
     },
     "execution_count": 5,
     "metadata": {},
     "output_type": "execute_result"
    }
   ],
   "source": [
    "list(map(lambda x: x + 5, numbers))"
   ]
  },
  {
   "cell_type": "markdown",
   "metadata": {},
   "source": [
    "Note that you don't always have to use `x` as the variable. You can define the variable with any name you want as long as the syntax is correct!\n",
    "\n",
    "The cool thing is that `lambda` functions are *customizable*. They are not just limited to numeric applications. You'll see how `lambda` functions can be used to transform text data below with the Yelp data set."
   ]
  },
  {
   "cell_type": "markdown",
   "metadata": {},
   "source": [
    "### Yelp data\n",
    "\n",
    "Now that you've been introduced to `lambda`, you can practice using it with `map` and `filter` to handle some real-world data. Let's start with the Yelp restaurants data set. The code below uses `lambda` to create a dictionary consisting of 4 keys: `name`, `price`, `is_closed`, and `review_count`. The `map` function is then used to apply the `lambda` function to every restaurant in the data set. "
   ]
  },
  {
   "cell_type": "code",
   "execution_count": 6,
   "metadata": {},
   "outputs": [],
   "source": [
    "from restaurants import yelp_restaurants # in this line we are simply importing our data we gathered from Yelp."
   ]
  },
  {
   "cell_type": "code",
   "execution_count": 7,
   "metadata": {},
   "outputs": [],
   "source": [
    "restaurants = list(map(lambda restaurant: dict(name=restaurant['name'], \n",
    "                                           price=restaurant['price'], \n",
    "                                           is_closed=restaurant['is_closed'],\n",
    "                                           review_count=restaurant['review_count'],\n",
    "                                          ), yelp_restaurants))"
   ]
  },
  {
   "cell_type": "markdown",
   "metadata": {},
   "source": [
    "We now have a list of restaurants from the Yelp Api.  Let's take a look at the list."
   ]
  },
  {
   "cell_type": "code",
   "execution_count": 8,
   "metadata": {},
   "outputs": [
    {
     "data": {
      "text/plain": [
       "[{'name': 'Fork & Fig',\n",
       "  'price': '$$',\n",
       "  'is_closed': False,\n",
       "  'review_count': 610},\n",
       " {'name': 'Salt And Board',\n",
       "  'price': '$$',\n",
       "  'is_closed': False,\n",
       "  'review_count': 11},\n",
       " {'name': 'Frontier Restaurant',\n",
       "  'price': '$',\n",
       "  'is_closed': False,\n",
       "  'review_count': 1373},\n",
       " {'name': 'Nexus Brewery',\n",
       "  'price': '$$',\n",
       "  'is_closed': False,\n",
       "  'review_count': 680},\n",
       " {'name': \"Devon's Pop Smoke\",\n",
       "  'price': '$$',\n",
       "  'is_closed': False,\n",
       "  'review_count': 54},\n",
       " {'name': 'Cocina Azul',\n",
       "  'price': '$$',\n",
       "  'is_closed': True,\n",
       "  'review_count': 647},\n",
       " {'name': 'Philly Steaks',\n",
       "  'price': '$$',\n",
       "  'is_closed': False,\n",
       "  'review_count': 25},\n",
       " {'name': 'Stripes Biscuit',\n",
       "  'price': '$$',\n",
       "  'is_closed': True,\n",
       "  'review_count': 20}]"
      ]
     },
     "execution_count": 8,
     "metadata": {},
     "output_type": "execute_result"
    }
   ],
   "source": [
    "restaurants"
   ]
  },
  {
   "cell_type": "markdown",
   "metadata": {},
   "source": [
    "### Using map"
   ]
  },
  {
   "cell_type": "markdown",
   "metadata": {},
   "source": [
    "As you can see, it's a little tricky to see the names of all of the restaurants due to amount of data. Let's create a new list `names` to contain only the names of all the restaurants from the list above. Use the `map` and `lambda` functions, along with your understanding of a dictionary's structure to do so."
   ]
  },
  {
   "cell_type": "code",
   "execution_count": 9,
   "metadata": {},
   "outputs": [
    {
     "data": {
      "text/plain": [
       "['Fork & Fig',\n",
       " 'Salt And Board',\n",
       " 'Frontier Restaurant',\n",
       " 'Nexus Brewery',\n",
       " \"Devon's Pop Smoke\",\n",
       " 'Cocina Azul',\n",
       " 'Philly Steaks',\n",
       " 'Stripes Biscuit']"
      ]
     },
     "execution_count": 9,
     "metadata": {},
     "output_type": "execute_result"
    }
   ],
   "source": [
    "names = list(map(lambda restaurant: restaurant['name'], restaurants))\n",
    "names\n",
    "# ['Fork & Fig',\n",
    "#  'Salt And Board',\n",
    "#  'Frontier Restaurant',\n",
    "#  'Nexus Brewery',\n",
    "#  \"Devon's Pop Smoke\",\n",
    "#  'Cocina Azul',\n",
    "#  'Philly Steaks',\n",
    "#  'Stripes Biscuit']"
   ]
  },
  {
   "cell_type": "markdown",
   "metadata": {},
   "source": [
    "This worked well. Now let's get a sense of how many reviews were written for each of these restaurants. Just like above, create a new list `review_counts` to only contain the values of `review_count` for each restaurant.    "
   ]
  },
  {
   "cell_type": "code",
   "execution_count": 10,
   "metadata": {},
   "outputs": [
    {
     "data": {
      "text/plain": [
       "[610, 11, 1373, 680, 54, 647, 25, 20]"
      ]
     },
     "execution_count": 10,
     "metadata": {},
     "output_type": "execute_result"
    }
   ],
   "source": [
    "review_counts = list(map(lambda restaurant:restaurant['review_count'], restaurants))\n",
    "review_counts # [610, 11, 1373, 680, 54, 647, 25, 20]"
   ]
  },
  {
   "cell_type": "markdown",
   "metadata": {},
   "source": [
    "Let's say we want to get a sense of total number of reviews in the whole dataset. We can add up the elements in `review_counts` list, and assign the result to a variable named `total_reviews`."
   ]
  },
  {
   "cell_type": "code",
   "execution_count": 11,
   "metadata": {},
   "outputs": [
    {
     "data": {
      "text/plain": [
       "3420"
      ]
     },
     "execution_count": 11,
     "metadata": {},
     "output_type": "execute_result"
    }
   ],
   "source": [
    "total_reviews = 0\n",
    "for review_count in review_counts:\n",
    "    total_reviews+=review_count\n",
    "total_reviews\n",
    "total_reviews # 3420"
   ]
  },
  {
   "cell_type": "markdown",
   "metadata": {},
   "source": [
    "It's a little tricky to work with the price in the format of dollars signs i.e. \\$ and \\$$ based on how expensive the restaurant is.  \n",
    "\n",
    "So write a function called `format_restaurants` that changes each restaurant to have the attribute `'price'` point to the number of dollar signs (i.e. 1 for \\$ and 2 for \\$$).  We'll get you started with the function, `format_restaurant`."
   ]
  },
  {
   "cell_type": "code",
   "execution_count": 12,
   "metadata": {},
   "outputs": [],
   "source": [
    "def format_restaurant(restaurant):\n",
    "    if type(restaurant['price']) == str:\n",
    "        restaurant['price'] = len(restaurant['price'])\n",
    "    return restaurant"
   ]
  },
  {
   "cell_type": "code",
   "execution_count": 13,
   "metadata": {},
   "outputs": [
    {
     "data": {
      "text/plain": [
       "{'name': 'Fork & Fig', 'price': 2, 'is_closed': False, 'review_count': 610}"
      ]
     },
     "execution_count": 13,
     "metadata": {},
     "output_type": "execute_result"
    }
   ],
   "source": [
    "format_restaurant(restaurants[0]) # {'name': 'Fork & Fig', 'price': 2, 'is_closed': False, 'review_count': 610}"
   ]
  },
  {
   "cell_type": "markdown",
   "metadata": {},
   "source": [
    "Now write another function called `map_format_restaurants` using `map`, that uses above function and returns a list of restaurants with each of them formatted with price pointing to the respective number."
   ]
  },
  {
   "cell_type": "code",
   "execution_count": 14,
   "metadata": {},
   "outputs": [],
   "source": [
    "def map_format_restaurants(restaurants):\n",
    "    return list(map(format_restaurant,restaurants))"
   ]
  },
  {
   "cell_type": "code",
   "execution_count": 15,
   "metadata": {
    "scrolled": true
   },
   "outputs": [
    {
     "data": {
      "text/plain": [
       "[{'name': 'Fork & Fig', 'price': 2, 'is_closed': False, 'review_count': 610},\n",
       " {'name': 'Salt And Board',\n",
       "  'price': 2,\n",
       "  'is_closed': False,\n",
       "  'review_count': 11},\n",
       " {'name': 'Frontier Restaurant',\n",
       "  'price': 1,\n",
       "  'is_closed': False,\n",
       "  'review_count': 1373},\n",
       " {'name': 'Nexus Brewery',\n",
       "  'price': 2,\n",
       "  'is_closed': False,\n",
       "  'review_count': 680},\n",
       " {'name': \"Devon's Pop Smoke\",\n",
       "  'price': 2,\n",
       "  'is_closed': False,\n",
       "  'review_count': 54},\n",
       " {'name': 'Cocina Azul', 'price': 2, 'is_closed': True, 'review_count': 647},\n",
       " {'name': 'Philly Steaks', 'price': 2, 'is_closed': False, 'review_count': 25},\n",
       " {'name': 'Stripes Biscuit',\n",
       "  'price': 2,\n",
       "  'is_closed': True,\n",
       "  'review_count': 20}]"
      ]
     },
     "execution_count": 15,
     "metadata": {},
     "output_type": "execute_result"
    }
   ],
   "source": [
    "map_format_restaurants(restaurants)\n",
    "\n",
    "#[{'name': 'Fork & Fig', 'price': 2, 'is_closed': False, 'review_count': 610},\n",
    "# {'name': 'Salt And Board',\n",
    "#  'price': 2,\n",
    "#  'is_closed': False,\n",
    "#  'review_count': 11},\n",
    "# {'name': 'Frontier Restaurant',\n",
    "#  'price': 1,\n",
    "#  'is_closed': False,\n",
    "#  'review_count': 1373},\n",
    "# {'name': 'Nexus Brewery',\n",
    "#  'price': 2,\n",
    "#  'is_closed': False,\n",
    "#  'review_count': 680},\n",
    "# {'name': \"Devon's Pop Smoke\",\n",
    "#  'price': 2,\n",
    "#  'is_closed': False,\n",
    "#  'review_count': 54},\n",
    "# {'name': 'Cocina Azul', 'price': 2, 'is_closed': True, 'review_count': 647},\n",
    "# {'name': 'Philly Steaks', 'price': 2, 'is_closed': False, 'review_count': 25},\n",
    "# {'name': 'Stripes Biscuit',\n",
    "#  'price': 2,\n",
    "#  'is_closed': True,\n",
    "#  'review_count': 20}]"
   ]
  },
  {
   "cell_type": "markdown",
   "metadata": {},
   "source": [
    "### Filter"
   ]
  },
  {
   "cell_type": "markdown",
   "metadata": {},
   "source": [
    "Now let's use `filter` to search for restaurants based on specific criteria.  \n",
    "\n",
    "Write a function called `open_restaurants` using `filter` and `lambda` that takes in a list of restaurants and only returns those that are open. You can use the distionary key `is_closed` to make a decision in your code. "
   ]
  },
  {
   "cell_type": "code",
   "execution_count": 16,
   "metadata": {},
   "outputs": [],
   "source": [
    "def open_restaurants(restaurants):\n",
    "    return list(filter(lambda restaurant: not restaurant ['is_closed'], restaurants))"
   ]
  },
  {
   "cell_type": "code",
   "execution_count": 17,
   "metadata": {},
   "outputs": [
    {
     "data": {
      "text/plain": [
       "[{'name': 'Fork & Fig', 'price': 2, 'is_closed': False, 'review_count': 610},\n",
       " {'name': 'Salt And Board',\n",
       "  'price': 2,\n",
       "  'is_closed': False,\n",
       "  'review_count': 11},\n",
       " {'name': 'Frontier Restaurant',\n",
       "  'price': 1,\n",
       "  'is_closed': False,\n",
       "  'review_count': 1373},\n",
       " {'name': 'Nexus Brewery',\n",
       "  'price': 2,\n",
       "  'is_closed': False,\n",
       "  'review_count': 680},\n",
       " {'name': \"Devon's Pop Smoke\",\n",
       "  'price': 2,\n",
       "  'is_closed': False,\n",
       "  'review_count': 54},\n",
       " {'name': 'Philly Steaks', 'price': 2, 'is_closed': False, 'review_count': 25}]"
      ]
     },
     "execution_count": 17,
     "metadata": {},
     "output_type": "execute_result"
    }
   ],
   "source": [
    "open_restaurants(restaurants)\n",
    "\n",
    "#[{'name': 'Fork & Fig', 'price': 2, 'is_closed': False, 'review_count': 610},\n",
    "# {'name': 'Salt And Board',\n",
    "#  'price': 2,\n",
    "#  'is_closed': False,\n",
    "#  'review_count': 11},\n",
    "# {'name': 'Frontier Restaurant',\n",
    "#  'price': 1,\n",
    "#  'is_closed': False,\n",
    "#  'review_count': 1373},\n",
    "# {'name': 'Nexus Brewery',\n",
    "#  'price': 2,\n",
    "#  'is_closed': False,\n",
    "#  'review_count': 680},\n",
    "# {'name': \"Devon's Pop Smoke\",\n",
    "#  'price': 2,\n",
    "#  'is_closed': False,\n",
    "#  'review_count': 54},\n",
    "# {'name': 'Philly Steaks', 'price': 2, 'is_closed': False, 'review_count': 25}]"
   ]
  },
  {
   "cell_type": "markdown",
   "metadata": {},
   "source": [
    "Let's say we now want to look at restaurants that are comparatively cheaper i.e. \\$ or 1 as price. \n",
    "\n",
    "Write a function called `cheap_restaurants` using filter, that returns the restaurants that have a price of  1, or '$'.  "
   ]
  },
  {
   "cell_type": "code",
   "execution_count": 18,
   "metadata": {},
   "outputs": [],
   "source": [
    "def cheapest_restaurants(restaurants):\n",
    "    return list(filter(lambda restaurant: restaurant['price']<= 1, restaurants))"
   ]
  },
  {
   "cell_type": "code",
   "execution_count": 19,
   "metadata": {
    "scrolled": true
   },
   "outputs": [
    {
     "data": {
      "text/plain": [
       "[{'name': 'Frontier Restaurant',\n",
       "  'price': 1,\n",
       "  'is_closed': False,\n",
       "  'review_count': 1373}]"
      ]
     },
     "execution_count": 19,
     "metadata": {},
     "output_type": "execute_result"
    }
   ],
   "source": [
    "cheapest_restaurants(restaurants)\n",
    "\n",
    "# [{'name': 'Frontier Restaurant',\n",
    "#  'price': 1,\n",
    "#  'is_closed': False,\n",
    "#  'review_count': 1373}]"
   ]
  },
  {
   "cell_type": "markdown",
   "metadata": {},
   "source": [
    "So we have only one restaurant in the data that meets the given criteria. Next, we shall write a function that filters out only those restaurants that 100 reviews or more, since we want to make sure there is some solid data points backing the reviews -- we are burgeoning data scientists after all!"
   ]
  },
  {
   "cell_type": "code",
   "execution_count": 26,
   "metadata": {},
   "outputs": [],
   "source": [
    "def sufficiently_reviewed_restaurants(restaurants):\n",
    "    return list(filter(lambda restaurant: restaurant['review_count']>= 100, restaurants))"
   ]
  },
  {
   "cell_type": "code",
   "execution_count": 27,
   "metadata": {},
   "outputs": [
    {
     "data": {
      "text/plain": [
       "[{'name': 'Fork & Fig', 'price': 2, 'is_closed': False, 'review_count': 610},\n",
       " {'name': 'Frontier Restaurant',\n",
       "  'price': 1,\n",
       "  'is_closed': False,\n",
       "  'review_count': 1373},\n",
       " {'name': 'Nexus Brewery',\n",
       "  'price': 2,\n",
       "  'is_closed': False,\n",
       "  'review_count': 680},\n",
       " {'name': 'Cocina Azul', 'price': 2, 'is_closed': True, 'review_count': 647}]"
      ]
     },
     "execution_count": 27,
     "metadata": {},
     "output_type": "execute_result"
    }
   ],
   "source": [
    "sufficiently_reviewed_restaurants(restaurants)\n",
    "\n",
    "# [{'name': 'Fork & Fig', 'price': 2, 'is_closed': False, 'review_count': 610},\n",
    "# {'name': 'Frontier Restaurant',\n",
    "#  'price': 1,\n",
    "#  'is_closed': False,\n",
    "#  'review_count': 1373},\n",
    "# {'name': 'Nexus Brewery',\n",
    "#  'price': 2,\n",
    "#  'is_closed': False,\n",
    "#  'review_count': 680},\n",
    "# {'name': 'Cocina Azul', 'price': 2, 'is_closed': True, 'review_count': 647}]"
   ]
  },
  {
   "cell_type": "markdown",
   "metadata": {},
   "source": [
    "### Summary"
   ]
  },
  {
   "cell_type": "markdown",
   "metadata": {},
   "source": [
    "Neat! In this lab, we successfully proved our prowess when it comes to iterating over each element of a list with both `map` and `filter`! We also learned about `lambda` functions and how to use them. We used `map` to format our data into ways that better help us answer questions and extrapolate insights. We used `filter` to return subsets of our data like our restaurants that were only one $ or our restaurants that had 100 or more reviews."
   ]
  }
 ],
 "metadata": {
  "kernelspec": {
   "display_name": "Python 3",
   "language": "python",
   "name": "python3"
  },
  "language_info": {
   "codemirror_mode": {
    "name": "ipython",
    "version": 3
   },
   "file_extension": ".py",
   "mimetype": "text/x-python",
   "name": "python",
   "nbconvert_exporter": "python",
   "pygments_lexer": "ipython3",
   "version": "3.6.9"
  }
 },
 "nbformat": 4,
 "nbformat_minor": 2
}
